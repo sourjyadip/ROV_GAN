{
  "nbformat": 4,
  "nbformat_minor": 0,
  "metadata": {
    "colab": {
      "name": "rov_gan.ipynb",
      "provenance": []
    },
    "kernelspec": {
      "name": "python3",
      "display_name": "Python 3"
    },
    "language_info": {
      "name": "python"
    },
    "accelerator": "GPU"
  },
  "cells": [
    {
      "cell_type": "code",
      "metadata": {
        "colab": {
          "base_uri": "https://localhost:8080/"
        },
        "id": "qZC1rUSPse00",
        "outputId": "27111389-39c4-425e-fca0-1ed36b576aaa"
      },
      "source": [
        "from google.colab import drive\n",
        "drive.mount('/gdrive')"
      ],
      "execution_count": 1,
      "outputs": [
        {
          "output_type": "stream",
          "text": [
            "Mounted at /gdrive\n"
          ],
          "name": "stdout"
        }
      ]
    },
    {
      "cell_type": "code",
      "metadata": {
        "colab": {
          "base_uri": "https://localhost:8080/"
        },
        "id": "yY5yyAbrtfev",
        "outputId": "697a0979-6ebc-4c22-8f74-5607f82025d5"
      },
      "source": [
        "!git clone https://github.com/sourjyadip/ROV_GAN"
      ],
      "execution_count": 2,
      "outputs": [
        {
          "output_type": "stream",
          "text": [
            "Cloning into 'ROV_GAN'...\n",
            "remote: Enumerating objects: 27, done.\u001b[K\n",
            "remote: Counting objects: 100% (27/27), done.\u001b[K\n",
            "remote: Compressing objects: 100% (19/19), done.\u001b[K\n",
            "remote: Total 27 (delta 8), reused 22 (delta 6), pack-reused 0\u001b[K\n",
            "Unpacking objects: 100% (27/27), done.\n"
          ],
          "name": "stdout"
        }
      ]
    },
    {
      "cell_type": "code",
      "metadata": {
        "colab": {
          "base_uri": "https://localhost:8080/"
        },
        "id": "JIBU1mVzvP-q",
        "outputId": "8503e151-8fa7-4635-a6ac-041f29c89b2b"
      },
      "source": [
        "pip install -U PyYAML"
      ],
      "execution_count": 3,
      "outputs": [
        {
          "output_type": "stream",
          "text": [
            "Collecting PyYAML\n",
            "\u001b[?25l  Downloading https://files.pythonhosted.org/packages/7a/a5/393c087efdc78091afa2af9f1378762f9821c9c1d7a22c5753fb5ac5f97a/PyYAML-5.4.1-cp37-cp37m-manylinux1_x86_64.whl (636kB)\n",
            "\r\u001b[K     |▌                               | 10kB 26.0MB/s eta 0:00:01\r\u001b[K     |█                               | 20kB 17.8MB/s eta 0:00:01\r\u001b[K     |█▌                              | 30kB 15.3MB/s eta 0:00:01\r\u001b[K     |██                              | 40kB 14.2MB/s eta 0:00:01\r\u001b[K     |██▋                             | 51kB 8.5MB/s eta 0:00:01\r\u001b[K     |███                             | 61kB 8.5MB/s eta 0:00:01\r\u001b[K     |███▋                            | 71kB 9.6MB/s eta 0:00:01\r\u001b[K     |████▏                           | 81kB 10.5MB/s eta 0:00:01\r\u001b[K     |████▋                           | 92kB 9.8MB/s eta 0:00:01\r\u001b[K     |█████▏                          | 102kB 8.7MB/s eta 0:00:01\r\u001b[K     |█████▋                          | 112kB 8.7MB/s eta 0:00:01\r\u001b[K     |██████▏                         | 122kB 8.7MB/s eta 0:00:01\r\u001b[K     |██████▊                         | 133kB 8.7MB/s eta 0:00:01\r\u001b[K     |███████▏                        | 143kB 8.7MB/s eta 0:00:01\r\u001b[K     |███████▊                        | 153kB 8.7MB/s eta 0:00:01\r\u001b[K     |████████▎                       | 163kB 8.7MB/s eta 0:00:01\r\u001b[K     |████████▊                       | 174kB 8.7MB/s eta 0:00:01\r\u001b[K     |█████████▎                      | 184kB 8.7MB/s eta 0:00:01\r\u001b[K     |█████████▉                      | 194kB 8.7MB/s eta 0:00:01\r\u001b[K     |██████████▎                     | 204kB 8.7MB/s eta 0:00:01\r\u001b[K     |██████████▉                     | 215kB 8.7MB/s eta 0:00:01\r\u001b[K     |███████████▎                    | 225kB 8.7MB/s eta 0:00:01\r\u001b[K     |███████████▉                    | 235kB 8.7MB/s eta 0:00:01\r\u001b[K     |████████████▍                   | 245kB 8.7MB/s eta 0:00:01\r\u001b[K     |████████████▉                   | 256kB 8.7MB/s eta 0:00:01\r\u001b[K     |█████████████▍                  | 266kB 8.7MB/s eta 0:00:01\r\u001b[K     |██████████████                  | 276kB 8.7MB/s eta 0:00:01\r\u001b[K     |██████████████▍                 | 286kB 8.7MB/s eta 0:00:01\r\u001b[K     |███████████████                 | 296kB 8.7MB/s eta 0:00:01\r\u001b[K     |███████████████▍                | 307kB 8.7MB/s eta 0:00:01\r\u001b[K     |████████████████                | 317kB 8.7MB/s eta 0:00:01\r\u001b[K     |████████████████▌               | 327kB 8.7MB/s eta 0:00:01\r\u001b[K     |█████████████████               | 337kB 8.7MB/s eta 0:00:01\r\u001b[K     |█████████████████▌              | 348kB 8.7MB/s eta 0:00:01\r\u001b[K     |██████████████████              | 358kB 8.7MB/s eta 0:00:01\r\u001b[K     |██████████████████▌             | 368kB 8.7MB/s eta 0:00:01\r\u001b[K     |███████████████████             | 378kB 8.7MB/s eta 0:00:01\r\u001b[K     |███████████████████▋            | 389kB 8.7MB/s eta 0:00:01\r\u001b[K     |████████████████████            | 399kB 8.7MB/s eta 0:00:01\r\u001b[K     |████████████████████▋           | 409kB 8.7MB/s eta 0:00:01\r\u001b[K     |█████████████████████           | 419kB 8.7MB/s eta 0:00:01\r\u001b[K     |█████████████████████▋          | 430kB 8.7MB/s eta 0:00:01\r\u001b[K     |██████████████████████▏         | 440kB 8.7MB/s eta 0:00:01\r\u001b[K     |██████████████████████▋         | 450kB 8.7MB/s eta 0:00:01\r\u001b[K     |███████████████████████▏        | 460kB 8.7MB/s eta 0:00:01\r\u001b[K     |███████████████████████▊        | 471kB 8.7MB/s eta 0:00:01\r\u001b[K     |████████████████████████▏       | 481kB 8.7MB/s eta 0:00:01\r\u001b[K     |████████████████████████▊       | 491kB 8.7MB/s eta 0:00:01\r\u001b[K     |█████████████████████████▏      | 501kB 8.7MB/s eta 0:00:01\r\u001b[K     |█████████████████████████▊      | 512kB 8.7MB/s eta 0:00:01\r\u001b[K     |██████████████████████████▎     | 522kB 8.7MB/s eta 0:00:01\r\u001b[K     |██████████████████████████▊     | 532kB 8.7MB/s eta 0:00:01\r\u001b[K     |███████████████████████████▎    | 542kB 8.7MB/s eta 0:00:01\r\u001b[K     |███████████████████████████▉    | 552kB 8.7MB/s eta 0:00:01\r\u001b[K     |████████████████████████████▎   | 563kB 8.7MB/s eta 0:00:01\r\u001b[K     |████████████████████████████▉   | 573kB 8.7MB/s eta 0:00:01\r\u001b[K     |█████████████████████████████▍  | 583kB 8.7MB/s eta 0:00:01\r\u001b[K     |█████████████████████████████▉  | 593kB 8.7MB/s eta 0:00:01\r\u001b[K     |██████████████████████████████▍ | 604kB 8.7MB/s eta 0:00:01\r\u001b[K     |██████████████████████████████▉ | 614kB 8.7MB/s eta 0:00:01\r\u001b[K     |███████████████████████████████▍| 624kB 8.7MB/s eta 0:00:01\r\u001b[K     |████████████████████████████████| 634kB 8.7MB/s eta 0:00:01\r\u001b[K     |████████████████████████████████| 645kB 8.7MB/s \n",
            "\u001b[?25hInstalling collected packages: PyYAML\n",
            "  Found existing installation: PyYAML 3.13\n",
            "    Uninstalling PyYAML-3.13:\n",
            "      Successfully uninstalled PyYAML-3.13\n",
            "Successfully installed PyYAML-5.4.1\n"
          ],
          "name": "stdout"
        }
      ]
    },
    {
      "cell_type": "code",
      "metadata": {
        "colab": {
          "base_uri": "https://localhost:8080/"
        },
        "id": "FSIVUlwQSHSG",
        "outputId": "b9ebbb65-7772-47d9-f1fb-b7d30fe5ad12"
      },
      "source": [
        "!python /content/ROV_GAN/train_funiegan.py"
      ],
      "execution_count": 5,
      "outputs": [
        {
          "output_type": "stream",
          "text": [
            "Downloading: \"https://download.pytorch.org/models/vgg19-dcbb9e9d.pth\" to /root/.cache/torch/hub/checkpoints/vgg19-dcbb9e9d.pth\n",
            "100% 548M/548M [00:02<00:00, 242MB/s]\n",
            "/usr/local/lib/python3.7/dist-packages/torchvision/transforms/transforms.py:258: UserWarning: Argument interpolation should be of type InterpolationMode instead of int. Please, use InterpolationMode enum.\n",
            "  \"Argument interpolation should be of type InterpolationMode instead of int. \"\n",
            "/usr/local/lib/python3.7/dist-packages/torch/utils/data/dataloader.py:477: UserWarning: This DataLoader will create 8 worker processes in total. Our suggested max number of worker in current system is 2, which is smaller than what this DataLoader is going to create. Please be aware that excessive worker creation might get DataLoader running slow or even freeze, lower the worker number to avoid potential slowness/freeze if necessary.\n",
            "  cpuset_checked))\n",
            "[Epoch 19/20: batch 1400/1430] [DLoss: 0.092, GLoss: 2.420, AdvLoss: 0.915]"
          ],
          "name": "stdout"
        }
      ]
    }
  ]
}